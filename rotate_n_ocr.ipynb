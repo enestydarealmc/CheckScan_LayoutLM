{
 "cells": [
  {
   "cell_type": "code",
   "execution_count": null,
   "metadata": {},
   "outputs": [],
   "source": [
    "import glob\n",
    "from paddleocr import PaddleOCR, draw_ocr\n",
    "import os\n",
    "import cv2\n",
    "import matplotlib.pyplot as plt\n",
    "%matplotlib inline\n",
    "import pandas as pd\n",
    "import numpy as np\n",
    "import math\n",
    "import imutils\n",
    "import json"
   ]
  },
  {
   "cell_type": "code",
   "execution_count": null,
   "metadata": {},
   "outputs": [],
   "source": [
    "image_paths = glob.glob(\"IndianDataset/img/*\")"
   ]
  },
  {
   "cell_type": "code",
   "execution_count": null,
   "metadata": {},
   "outputs": [],
   "source": [
    "image_paths[0]"
   ]
  },
  {
   "cell_type": "code",
   "execution_count": null,
   "metadata": {},
   "outputs": [],
   "source": [
    "ocr = PaddleOCR(use_angle_cls=True)"
   ]
  },
  {
   "cell_type": "code",
   "execution_count": null,
   "metadata": {},
   "outputs": [],
   "source": [
    "def unit_vector(vector):\n",
    "    if np.sum(np.abs(vector)) == 0:\n",
    "        return vector\n",
    "    \"\"\" Returns the unit vector of the vector.  \"\"\"\n",
    "    return vector / np.linalg.norm(vector)\n",
    "\n",
    "def angle_between(v1, v2):\n",
    "    \"\"\" Returns the angle in radians between vectors 'v1' and 'v2'::\n",
    "\n",
    "            >>> angle_between((1, 0, 0), (0, 1, 0))\n",
    "            1.5707963267948966\n",
    "            >>> angle_between((1, 0, 0), (1, 0, 0))\n",
    "            0.0\n",
    "            >>> angle_between((1, 0, 0), (-1, 0, 0))\n",
    "            3.141592653589793\n",
    "    \"\"\"\n",
    "    v1_u = unit_vector(v1)\n",
    "    v2_u = unit_vector(v2)\n",
    "    return np.arccos(np.clip(np.dot(v1_u, v2_u), -1.0, 1.0))\n",
    "\n",
    "def findClockwiseAngle(self, other):\n",
    "    unit_self = unit_vector(self)\n",
    "    unit_other = unit_vector(other)\n",
    "    # using cross-product formula\n",
    "    return -math.degrees(math.asin((unit_self[0] * unit_other[1] - unit_self[1] * unit_other[0])))\n",
    "\n",
    "def withinRange(values, num_std = 2):\n",
    "    std = np.std(values)\n",
    "    mean = np.mean(values)\n",
    "    return (mean - num_std * std < values) & ( values < mean + num_std * std)"
   ]
  },
  {
   "attachments": {},
   "cell_type": "markdown",
   "metadata": {},
   "source": [
    "## Go through each file, detect tilted angle compared to x-axis. Rotate back to x-axis if needed"
   ]
  },
  {
   "attachments": {},
   "cell_type": "markdown",
   "metadata": {},
   "source": [
    "### Paddle OCR works even if text is rotated, but LayoutLM doesn't like rotated bounding box\n",
    "### So if a box is detected in a rotated fashion, all its edges will be expand to its projected vertical and horizontal axis\n",
    "\n",
    "<img src=\"doc_imgs/bounding_box.png\">"
   ]
  },
  {
   "cell_type": "code",
   "execution_count": null,
   "metadata": {},
   "outputs": [],
   "source": [
    "df = pd.DataFrame(columns=[\"x0\", \"y0\", \"x1\", \"y1\",\"x2\", \"y2\", \"x3\", \"y3\", \"conf\", 'text', 'avg_ang'])\n",
    "\n",
    "rotate_angles = {} # save a dict of key-value of filename-tilted angle \n",
    "\n",
    "for path in image_paths:\n",
    "    file_name = path.split('\\\\')[-1].split('.')[0]\n",
    "    image = cv2.imread(path)\n",
    "    result = ocr.ocr(path)\n",
    "    boxes = [line[0] for line in result[0]]\n",
    "    txts = [str(line[1][0]) for line in result[0]]\n",
    "    scores = [line[1][1] for line in result[0]]\n",
    "    d = pd.DataFrame({'x0':[i[0][0] for i in boxes], 'y0':[i[0][1] for i in boxes],'x1':[i[1][0] for i in boxes],'y1':[i[1][1] for i in boxes],'x2':[i[2][0] for i in boxes],'y2':[i[2][1] for i in boxes],'x3':[i[3][0] for i in boxes],'y3':[i[3][1] for i in boxes], 'conf': scores, 'text':txts, 'avg_ang': np.nan})\n",
    "    # for col in d.columns[:-2]:\n",
    "    #     d[col] = d[col].astype(int) # remember that SROIE2019 dataset requires all fields to be int\n",
    "    \n",
    "    for i in range(len(d)):\n",
    "        hor1 = (d.loc[i, 'x1'] - d.loc[i, 'x0'],\n",
    "                d.loc[i, 'y1'] - d.loc[i, 'y0'])\n",
    "        hor2 = (d.loc[i, 'x2'] - d.loc[i, 'x3'],\n",
    "                d.loc[i, 'y2'] - d.loc[i, 'y3'])\n",
    "        ver1 = (d.loc[i, 'x3'] - d.loc[i, 'x0'],\n",
    "                d.loc[i, 'y3'] - d.loc[i, 'y0'])\n",
    "        ver2 = (d.loc[i, 'x2'] - d.loc[i, 'x1'],\n",
    "                d.loc[i, 'y2'] - d.loc[i, 'y1'])\n",
    "\n",
    "        ang1 = findClockwiseAngle(hor1, (1, 0))\n",
    "        ang2 = findClockwiseAngle(hor2, (1, 0))\n",
    "        ang3 = findClockwiseAngle(ver1, (0, 1))\n",
    "        ang4 = findClockwiseAngle(ver2, (0, 1))\n",
    "\n",
    "        avg_ang = np.average([ang1, ang2, ang3, ang4])\n",
    "        d.loc[i, 'avg_ang'] = avg_ang\n",
    "        Xs = d.loc[i, ['x0', 'x1', 'x2', 'x3']]\n",
    "        Ys = d.loc[i, ['y0', 'y1', 'y2', 'y3']]\n",
    "        d.loc[i, 'x0'] = Xs.min()\n",
    "        d.loc[i, 'x3'] = Xs.min()\n",
    "        d.loc[i, 'x1'] = Xs.max()\n",
    "        d.loc[i, 'x2'] = Xs.max()\n",
    "\n",
    "        d.loc[i, 'y0'] = Ys.min()\n",
    "        d.loc[i, 'y1'] = Ys.min()\n",
    "        d.loc[i, 'y2'] = Ys.max()\n",
    "        d.loc[i, 'y3'] = Ys.max()\n",
    "\n",
    "    rotate_angles[path] = d.avg_ang[withinRange(d.avg_ang)].mean()\n",
    "\n",
    "    for col in [\"x0\", \"y0\", \"x1\", \"y1\",\"x2\", \"y2\", \"x3\", \"y3\"]:\n",
    "        d[col] = d[col].astype(int)\n",
    "\n",
    "    d[[\"x0\", \"y0\", \"x1\", \"y1\",\"x2\", \"y2\", \"x3\", \"y3\", \"text\"]].to_csv(r'IndianDataset/box/'+file_name+'.txt', header=None, index=None, sep=',')\n",
    "\n",
    "\n",
    "#     df = df.append(d, ignore_index=True)"
   ]
  },
  {
   "cell_type": "code",
   "execution_count": null,
   "metadata": {},
   "outputs": [],
   "source": [
    "rotate_angles"
   ]
  },
  {
   "cell_type": "code",
   "execution_count": null,
   "metadata": {},
   "outputs": [],
   "source": [
    "with open('rotate_angles.json', 'w') as fp: \n",
    "    json.dump(rotate_angles, fp) # save rotated angle if needed"
   ]
  },
  {
   "cell_type": "code",
   "execution_count": null,
   "metadata": {},
   "outputs": [],
   "source": [
    "def rotate_img_and_save(path, angle):\n",
    "    image = cv2.imread(path)\n",
    "    rotatedImage = imutils.rotate(image, angle=angle)\n",
    "    cv2.imwrite('rotated\\\\'+path.split('\\\\')[-1],rotatedImage)"
   ]
  },
  {
   "cell_type": "code",
   "execution_count": null,
   "metadata": {},
   "outputs": [],
   "source": [
    "for path in image_paths:\n",
    "    rotate_img_and_save(path, rotate_angles[path]) # rotate images according to detected tilted angle if needed. And then rerun OCR cell above with path to rotated images"
   ]
  }
 ],
 "metadata": {
  "language_info": {
   "name": "python"
  },
  "orig_nbformat": 4
 },
 "nbformat": 4,
 "nbformat_minor": 2
}
